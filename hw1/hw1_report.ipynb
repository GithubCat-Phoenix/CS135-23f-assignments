{
 "cells": [
  {
   "cell_type": "markdown",
   "metadata": {},
   "source": [
    "# HW1 : Regression, Cross-Validation, and  Regularization"
   ]
  },
  {
   "cell_type": "code",
   "execution_count": 43,
   "metadata": {
    "ExecuteTime": {
     "end_time": "2023-10-04T16:41:31.345830700Z",
     "start_time": "2023-10-04T16:41:31.107965400Z"
    }
   },
   "outputs": [],
   "source": [
    "import os\n",
    "import numpy as np\n",
    "import pandas as pd\n",
    " \n",
    "import sklearn.preprocessing\n",
    "import sklearn.pipeline\n",
    "import sklearn.linear_model"
   ]
  },
  {
   "cell_type": "code",
   "execution_count": 44,
   "metadata": {
    "ExecuteTime": {
     "end_time": "2023-10-04T16:41:31.362079900Z",
     "start_time": "2023-10-04T16:41:31.110962Z"
    }
   },
   "outputs": [],
   "source": [
    "from matplotlib import pyplot as plt\n",
    "\n",
    "import seaborn as sns\n",
    "sns.set('notebook', font_scale=1.25, style='whitegrid')"
   ]
  },
  {
   "cell_type": "markdown",
   "source": [
    "### Configuration\n",
    "\n",
    "We assume your current directory contains folder 'data_auto'\n",
    "\n",
    "To make this happen, before you run the notebook, be sure you have\n",
    "* updated your local copy of the cs135-23f-assignments repo \n",
    "* cd into the hw1 dir"
   ],
   "metadata": {
    "collapsed": false
   }
  },
  {
   "cell_type": "code",
   "execution_count": 45,
   "metadata": {
    "ExecuteTime": {
     "end_time": "2023-10-04T16:41:31.362079900Z",
     "start_time": "2023-10-04T16:41:31.114724800Z"
    }
   },
   "outputs": [],
   "source": [
    "SEED = 12345 \n",
    "\n",
    "DATA_DIR = 'data_auto'"
   ]
  },
  {
   "cell_type": "code",
   "execution_count": 46,
   "metadata": {
    "ExecuteTime": {
     "end_time": "2023-10-04T16:41:31.367222500Z",
     "start_time": "2023-10-04T16:41:31.120988500Z"
    }
   },
   "outputs": [],
   "source": [
    "# If running in cloud on Google colab, this code will acquire necessary data files\n",
    "if os.getenv(\"COLAB_RELEASE_TAG\") and not os.path.exists(DATA_DIR):\n",
    "    !git clone https://github.com/tufts-ml-courses/cs135-23f-assignments.git\n",
    "    os.chdir(os.path.join('cs135-23f-assignments', 'hw1'))\n",
    "if not os.path.exists(DATA_DIR):\n",
    "    raise ValueError(\"Need to run this script within a valid checkout of the cs135 repo\")"
   ]
  },
  {
   "cell_type": "markdown",
   "metadata": {},
   "source": [
    "### Methods for loading dataset"
   ]
  },
  {
   "cell_type": "code",
   "execution_count": 47,
   "metadata": {
    "ExecuteTime": {
     "end_time": "2023-10-04T16:41:31.600493400Z",
     "start_time": "2023-10-04T16:41:31.126633900Z"
    }
   },
   "outputs": [],
   "source": [
    "def load_2d_arr_from_csv(fname, include_header=False):\n",
    "    x = np.loadtxt(os.path.join(DATA_DIR, fname), delimiter=',', skiprows=1)\n",
    "    assert x.ndim == 2\n",
    "    if include_header:\n",
    "        header_cols = np.loadtxt(os.path.join(DATA_DIR, fname), delimiter=',', dtype=str)[0].tolist()\n",
    "        return x, header_cols\n",
    "    else:\n",
    "        return x\n",
    "    \n",
    "def load_1d_arr_from_csv(fname):\n",
    "    x = np.loadtxt(os.path.join(DATA_DIR, fname), delimiter=',', skiprows=1)\n",
    "    if x.ndim == 1:\n",
    "        return x\n",
    "    else:\n",
    "        raise ValueError(\"Not 1d\")"
   ]
  },
  {
   "cell_type": "markdown",
   "metadata": {},
   "source": [
    "# Load the dataset\n",
    "\n",
    "Predefined 'x' and 'y' arrays for train/valid/test"
   ]
  },
  {
   "cell_type": "code",
   "execution_count": 48,
   "metadata": {
    "ExecuteTime": {
     "end_time": "2023-10-04T16:41:31.604484300Z",
     "start_time": "2023-10-04T16:41:31.131133Z"
    }
   },
   "outputs": [],
   "source": [
    "x_tr_MF, xcolnames_F = load_2d_arr_from_csv('x_train.csv', include_header=True)\n",
    "x_va_NF = load_2d_arr_from_csv('x_valid.csv')\n",
    "x_te_PF = load_2d_arr_from_csv('x_test.csv')"
   ]
  },
  {
   "cell_type": "code",
   "execution_count": 49,
   "metadata": {
    "ExecuteTime": {
     "end_time": "2023-10-04T16:41:31.609634900Z",
     "start_time": "2023-10-04T16:41:31.136388200Z"
    }
   },
   "outputs": [
    {
     "name": "stdout",
     "output_type": "stream",
     "text": [
      "['horsepower', 'weight', 'cylinders', 'displacement']\n"
     ]
    }
   ],
   "source": [
    "print(xcolnames_F)"
   ]
  },
  {
   "cell_type": "code",
   "execution_count": 50,
   "metadata": {
    "ExecuteTime": {
     "end_time": "2023-10-04T16:41:31.613623900Z",
     "start_time": "2023-10-04T16:41:31.140007500Z"
    }
   },
   "outputs": [
    {
     "name": "stdout",
     "output_type": "stream",
     "text": [
      "[[ 115. 2595.    6.  173.]\n",
      " [ 180. 4380.    8.  350.]\n",
      " [ 150. 4457.    8.  318.]\n",
      " [ 105. 3897.    6.  250.]\n",
      " [ 193. 4732.    8.  304.]]\n"
     ]
    }
   ],
   "source": [
    "print(x_tr_MF[:5])"
   ]
  },
  {
   "cell_type": "code",
   "execution_count": 51,
   "metadata": {
    "ExecuteTime": {
     "end_time": "2023-10-04T16:41:31.613623900Z",
     "start_time": "2023-10-04T16:41:31.144484500Z"
    }
   },
   "outputs": [],
   "source": [
    "y_tr_M = load_1d_arr_from_csv('y_train.csv')\n",
    "y_va_N = load_1d_arr_from_csv('y_valid.csv')\n",
    "y_te_P = load_1d_arr_from_csv('y_test.csv')"
   ]
  },
  {
   "cell_type": "code",
   "execution_count": 52,
   "metadata": {
    "ExecuteTime": {
     "end_time": "2023-10-04T16:41:31.635873500Z",
     "start_time": "2023-10-04T16:41:31.148415200Z"
    }
   },
   "outputs": [
    {
     "name": "stdout",
     "output_type": "stream",
     "text": [
      "[[28.8]\n",
      " [16.5]\n",
      " [14. ]\n",
      " [16. ]\n",
      " [ 9. ]]\n"
     ]
    }
   ],
   "source": [
    "print(y_tr_M[:5,np.newaxis])"
   ]
  },
  {
   "cell_type": "code",
   "execution_count": 53,
   "metadata": {
    "ExecuteTime": {
     "end_time": "2023-10-04T16:41:31.635873500Z",
     "start_time": "2023-10-04T16:41:31.153236800Z"
    }
   },
   "outputs": [
    {
     "data": {
      "text/plain": "46.6"
     },
     "execution_count": 53,
     "metadata": {},
     "output_type": "execute_result"
    }
   ],
   "source": [
    "y_tr_M.max()"
   ]
  },
  {
   "cell_type": "code",
   "execution_count": 54,
   "metadata": {
    "ExecuteTime": {
     "end_time": "2023-10-04T16:41:31.636871300Z",
     "start_time": "2023-10-04T16:41:31.157148100Z"
    }
   },
   "outputs": [],
   "source": [
    "Y_MAX = 60.0"
   ]
  },
  {
   "cell_type": "markdown",
   "metadata": {},
   "source": [
    "## Load completed code"
   ]
  },
  {
   "cell_type": "code",
   "execution_count": 55,
   "metadata": {
    "ExecuteTime": {
     "end_time": "2023-10-04T16:41:31.637074500Z",
     "start_time": "2023-10-04T16:41:31.162757800Z"
    }
   },
   "outputs": [],
   "source": [
    "from performance_metrics import calc_root_mean_squared_error\n",
    "from cross_validation import train_models_and_calc_scores_for_n_fold_cv"
   ]
  },
  {
   "cell_type": "markdown",
   "metadata": {},
   "source": [
    "## Define useful plotting functions"
   ]
  },
  {
   "cell_type": "code",
   "execution_count": 56,
   "metadata": {
    "ExecuteTime": {
     "end_time": "2023-10-04T16:41:31.647233300Z",
     "start_time": "2023-10-04T16:41:31.166881700Z"
    }
   },
   "outputs": [],
   "source": [
    "def plot_train_and_valid_error_vs_hyper(\n",
    "        hyper_list, err_tr_list=None, err_va_list=None,\n",
    "        ymax=40,\n",
    "        leg_loc='upper right',\n",
    "        xlabel='polynomial degree',\n",
    "        ylabel='RMSE'):\n",
    "    if err_va_list is not None:\n",
    "        plt.plot(hyper_list, err_va_list, 'rs-', label='valid');\n",
    "    if err_tr_list is not None:\n",
    "        plt.plot(hyper_list, err_tr_list, 'bd:', label='train');\n",
    "    plt.ylim([0, ymax]);\n",
    "    plt.legend(loc=leg_loc);\n",
    "    plt.xlabel(xlabel);\n",
    "    plt.ylabel(ylabel);"
   ]
  },
  {
   "cell_type": "markdown",
   "metadata": {},
   "source": [
    "## Method to sanitize predictions\n",
    "\n",
    "We are predicting MPG, which should \n",
    "* (1) always be positive, and\n",
    "* (2) will probably never exceed 120% of the largest value we see in train data"
   ]
  },
  {
   "cell_type": "code",
   "execution_count": 57,
   "metadata": {
    "ExecuteTime": {
     "end_time": "2023-10-04T16:41:31.648232300Z",
     "start_time": "2023-10-04T16:41:31.173027700Z"
    }
   },
   "outputs": [],
   "source": [
    "def sanitize(yhat_N):\n",
    "    yhat_N = np.maximum(yhat_N, 0)\n",
    "    yhat_N = np.minimum(yhat_N, Y_MAX)\n",
    "    return yhat_N"
   ]
  },
  {
   "cell_type": "code",
   "execution_count": 58,
   "metadata": {
    "ExecuteTime": {
     "end_time": "2023-10-04T16:41:31.655213400Z",
     "start_time": "2023-10-04T16:41:31.176888200Z"
    }
   },
   "outputs": [],
   "source": [
    "bad_yhat_N = np.asarray([-10, -1, 0, 1, 5, 10, 50, 55, 60, 65])"
   ]
  },
  {
   "cell_type": "code",
   "execution_count": 59,
   "metadata": {
    "ExecuteTime": {
     "end_time": "2023-10-04T16:41:31.659398100Z",
     "start_time": "2023-10-04T16:41:31.180959200Z"
    }
   },
   "outputs": [
    {
     "data": {
      "text/plain": "array([-10,  -1,   0,   1,   5,  10,  50,  55,  60,  65])"
     },
     "execution_count": 59,
     "metadata": {},
     "output_type": "execute_result"
    }
   ],
   "source": [
    "bad_yhat_N"
   ]
  },
  {
   "cell_type": "code",
   "execution_count": 60,
   "metadata": {
    "ExecuteTime": {
     "end_time": "2023-10-04T16:41:31.659398100Z",
     "start_time": "2023-10-04T16:41:31.186875100Z"
    }
   },
   "outputs": [
    {
     "data": {
      "text/plain": "array([ 0.,  0.,  0.,  1.,  5., 10., 50., 55., 60., 60.])"
     },
     "execution_count": 60,
     "metadata": {},
     "output_type": "execute_result"
    }
   ],
   "source": [
    "sanitize(bad_yhat_N)"
   ]
  },
  {
   "cell_type": "markdown",
   "metadata": {},
   "source": [
    "## Methods for building pipelines"
   ]
  },
  {
   "cell_type": "code",
   "execution_count": 61,
   "metadata": {
    "ExecuteTime": {
     "end_time": "2023-10-04T16:41:31.663387300Z",
     "start_time": "2023-10-04T16:41:31.192134600Z"
    }
   },
   "outputs": [],
   "source": [
    "# def make_poly_linear_regr_pipeline(degree=1):\n",
    "#     pipeline = sklearn.pipeline.Pipeline(\n",
    "#         steps=[\n",
    "#          ('rescaler', sklearn.preprocessing.MinMaxScaler()),\n",
    "#          ('poly_transformer', sklearn.preprocessing.PolynomialFeatures(degree=degree, include_bias=False)),\n",
    "#          ('linear_regr', sklearn.linear_model.LinearRegression()),\n",
    "#         ])\n",
    "def make_poly_linear_regr_pipeline(degree=1):\n",
    "    pipeline = sklearn.pipeline.Pipeline(\n",
    "        steps=[\n",
    "            ('poly_transformer', sklearn.preprocessing.PolynomialFeatures(degree=degree, include_bias=False)),\n",
    "            ('linear_regr', sklearn.linear_model.LinearRegression()),\n",
    "        ])\n",
    "    \n",
    "    # Return the constructed pipeline\n",
    "    # We can treat it as if it has a 'regression' API\n",
    "    # e.g. a fit and a predict method\n",
    "    return pipeline"
   ]
  },
  {
   "cell_type": "code",
   "execution_count": 62,
   "metadata": {
    "ExecuteTime": {
     "end_time": "2023-10-04T16:41:31.674513700Z",
     "start_time": "2023-10-04T16:41:31.196949500Z"
    }
   },
   "outputs": [],
   "source": [
    "def make_poly_ridge_regr_pipeline(degree=1, alpha=1.0):\n",
    "    pipeline = sklearn.pipeline.Pipeline(\n",
    "        steps=[\n",
    "         ('rescaler', sklearn.preprocessing.MinMaxScaler()),\n",
    "         ('poly_transformer', sklearn.preprocessing.PolynomialFeatures(degree=degree, include_bias=False)),\n",
    "         ('linear_regr', sklearn.linear_model.Ridge(alpha=alpha)),\n",
    "        ])\n",
    "\n",
    "    # Return the constructed pipeline\n",
    "    # We can treat it as if it has a 'regression' API\n",
    "    # e.g. a fit and a predict method\n",
    "    return pipeline"
   ]
  },
  {
   "cell_type": "markdown",
   "metadata": {},
   "source": [
    "## Method to inspect learned weights"
   ]
  },
  {
   "cell_type": "code",
   "execution_count": 63,
   "metadata": {
    "ExecuteTime": {
     "end_time": "2023-10-04T16:41:31.674513700Z",
     "start_time": "2023-10-04T16:41:31.202601500Z"
    }
   },
   "outputs": [],
   "source": [
    "def pretty_print_learned_weights(pipeline, xcolnames_F):\n",
    "    ''' Print the learned parameters of given pipeline\n",
    "    '''\n",
    "    my_lin_regr = pipeline.named_steps['linear_regr']\n",
    "\n",
    "    feat_names = pipeline.named_steps['poly_transformer'].get_feature_names_out()\n",
    "    coef_values = my_lin_regr.coef_\n",
    "\n",
    "    for feat, coef in zip(feat_names, coef_values):\n",
    "        print(\"% 7.2f : %s\" % (coef, feat))\n",
    "    \n",
    "    print(\"where \")\n",
    "    for ff, colname in enumerate(xcolnames_F):\n",
    "        print(\"x%d = %s\" % (ff, colname))"
   ]
  },
  {
   "cell_type": "markdown",
   "metadata": {},
   "source": [
    "# Problem 1: Polynomial Degree Selection on Fixed Validation Set\n",
    "\n",
    "**Implementation Step 1A:**\n",
    "\n",
    "Fit a linear regression model to a polynomial feature transformation of the provided training set at each of these possible degrees: [1, 2, 3, 4, 5, 6, 7]. For each hyperparameter setting, record the training set error and the validation set error."
   ]
  },
  {
   "cell_type": "code",
   "execution_count": 64,
   "metadata": {
    "ExecuteTime": {
     "end_time": "2023-10-04T16:41:31.776389700Z",
     "start_time": "2023-10-04T16:41:31.206452900Z"
    }
   },
   "outputs": [],
   "source": [
    "degree_list = [1, 2, 3, 4, 5, 6, 7]\n",
    "fv_err_tr_list = []  # 存储训练误差的列表\n",
    "fv_err_va_list = []  # 存储验证误差的列表\n",
    "\n",
    "fv_pipeline_list = []  # 存储管道模型的列表\n",
    "for degree in degree_list:\n",
    "\n",
    "    # TODO create a pipeline using features with current degree value\n",
    "    # TODO train this pipeline on provided training data\n",
    "    x_train_MF = load_2d_arr_from_csv(\"x_train.csv\")\n",
    "    y_train_M = load_1d_arr_from_csv(\"y_train.csv\")\n",
    "    x_valid_NF = load_2d_arr_from_csv(\"x_valid.csv\")\n",
    "    y_valid_N = load_1d_arr_from_csv(\"y_valid.csv\")\n",
    "    # 创建一个使用当前阶数的多项式特征转换和线性回归的管道模型\n",
    "    pipeline = make_poly_linear_regr_pipeline(degree=degree)\n",
    "    # 在提供的训练数据上训练这个管道模型\n",
    "    pipeline.fit(x_train_MF, y_train_M)\n",
    "    \n",
    "    # Compute training error\n",
    "    # 计算训练误差\n",
    "    # 训练集\n",
    "    yhat_tr_M = pipeline.predict(x_train_MF)  # 使用管道模型进行训练数据的预测\n",
    "    yhat_tr_M = sanitize(yhat_tr_M)  # 对预测结果进行处理，确保其满足特定条件\n",
    "    # TODO fixme, be sure to sanitize predictions\n",
    "    # 验证集\n",
    "    yhat_va_N = pipeline.predict(x_valid_NF)  # 使用管道模型进行验证数据的预测\n",
    "    yhat_va_N = sanitize(yhat_va_N)  # 对预测结果进行处理，确保其满足特定条件\n",
    "    # TODO fixme, be sure to sanitize predictions\n",
    "\n",
    "    err_tr = calc_root_mean_squared_error(y_train_M, yhat_tr_M)\n",
    "    err_va = calc_root_mean_squared_error(y_valid_N, yhat_va_N) # TODO fixme\n",
    "\n",
    "    fv_err_tr_list.append(err_tr)\n",
    "    fv_err_va_list.append(err_va)\n",
    "    \n",
    "    # TODO store current pipeline for future use\n",
    "    fv_pipeline_list.append(pipeline)"
   ]
  },
  {
   "cell_type": "markdown",
   "metadata": {},
   "source": [
    "### Figure 1: Error vs degree"
   ]
  },
  {
   "cell_type": "code",
   "execution_count": 65,
   "metadata": {
    "ExecuteTime": {
     "end_time": "2023-10-04T16:41:31.814912100Z",
     "start_time": "2023-10-04T16:41:31.295491200Z"
    }
   },
   "outputs": [
    {
     "data": {
      "text/plain": "<Figure size 640x480 with 1 Axes>",
      "image/png": "[encoded data removed]"
     },
     "metadata": {},
     "output_type": "display_data"
    }
   ],
   "source": [
    "plot_train_and_valid_error_vs_hyper(\n",
    "    degree_list, fv_err_tr_list, fv_err_va_list, leg_loc='upper left');\n",
    "plt.title('RMSE vs. Degree');"
   ]
  },
  {
   "cell_type": "markdown",
   "metadata": {},
   "source": [
    "### Implementation 1B: Score on the test set using the chosen model\n",
    "\n",
    "Select the model hyperparameters that *minimize* your fixed validation set error. Using your already-trained LinearRegression model with these best hyperparameters, compute error on the *test* set. Save this test set error value for later."
   ]
  },
  {
   "cell_type": "code",
   "execution_count": 66,
   "metadata": {
    "ExecuteTime": {
     "end_time": "2023-10-04T16:41:31.815911100Z",
     "start_time": "2023-10-04T16:41:31.528094100Z"
    }
   },
   "outputs": [
    {
     "name": "stdout",
     "output_type": "stream",
     "text": [
      "Selected Parameters:\n",
      "2\n",
      "Fixed validation set estimate of heldout error:\n",
      "3.974\n",
      "Error on the test-set:\n",
      "3.992\n"
     ]
    }
   ],
   "source": [
    "x_test_NF = load_2d_arr_from_csv(\"x_test.csv\")\n",
    "y_test_N = load_1d_arr_from_csv(\"y_test.csv\")\n",
    "\n",
    "min_err_va = min(fv_err_va_list)\n",
    "min_index = fv_err_va_list.index(min_err_va)\n",
    "train_model = fv_pipeline_list[min_index]\n",
    "\n",
    "yhat_test_N = train_model.predict(x_test_NF)\n",
    "err_test = calc_root_mean_squared_error(y_test_N, yhat_test_N)\n",
    "\n",
    "print(\"Selected Parameters:\")\n",
    "print(degree_list[min_index])\n",
    "print(\"Fixed validation set estimate of heldout error:\")\n",
    "print(f\"{min_err_va:.3f}\")\n",
    "print(\"Error on the test-set:\")\n",
    "print(f\"{err_test:.3f}\")"
   ]
  },
  {
   "cell_type": "code",
   "execution_count": 67,
   "metadata": {
    "ExecuteTime": {
     "end_time": "2023-10-04T16:41:31.815911100Z",
     "start_time": "2023-10-04T16:41:31.536503200Z"
    }
   },
   "outputs": [],
   "source": [
    "# TODO store score on test set for later"
   ]
  },
  {
   "cell_type": "markdown",
   "metadata": {},
   "source": [
    "### Short Answer 1a in Report\n",
    "\n",
    "Investigate why preprocessing is necessary"
   ]
  },
  {
   "cell_type": "code",
   "execution_count": 68,
   "metadata": {
    "ExecuteTime": {
     "end_time": "2023-10-04T16:41:31.815911100Z",
     "start_time": "2023-10-04T16:41:31.539552100Z"
    }
   },
   "outputs": [],
   "source": [
    "# WRITE THIS IN YOUR REPORT, NOT IN THIS NOTEBOOK"
   ]
  },
  {
   "cell_type": "markdown",
   "metadata": {},
   "source": [
    "### Short Answer 1b in Report\n",
    "\n",
    "Consider the model with degree 1. \n",
    "Following the starter code, print out the values of **all** the learned weight parameters (aka coefficients)."
   ]
  },
  {
   "cell_type": "code",
   "execution_count": 69,
   "metadata": {
    "ExecuteTime": {
     "end_time": "2023-10-04T16:41:31.815911100Z",
     "start_time": "2023-10-04T16:41:31.543368100Z"
    }
   },
   "outputs": [
    {
     "name": "stdout",
     "output_type": "stream",
     "text": [
      "  -0.06 : x0\n",
      "  -0.01 : x1\n",
      "  -0.23 : x2\n",
      "   0.00 : x3\n",
      "where \n",
      "x0 = horsepower\n",
      "x1 = weight\n",
      "x2 = cylinders\n",
      "x3 = displacement\n",
      "['horsepower', 'weight', 'cylinders', 'displacement']\n"
     ]
    }
   ],
   "source": [
    "# TODO call pretty_print_learned_weights on your pipeline with degree=1 from above\n",
    "# Hint: The names of the original F=4 features are already in your workspace\n",
    "pretty_print_learned_weights(fv_pipeline_list[0], xcolnames_F)\n",
    "# pretty_print_learned_weights(fv_pipeline_list[1], xcolnames_F)\n",
    "print(xcolnames_F)\n",
    "# increasing the engine weight impacts decreases mpg\n",
    "# increase engine displacement increases mpg"
   ]
  },
  {
   "cell_type": "markdown",
   "metadata": {},
   "source": [
    "### Short Answer 1c in Report\n",
    "\n",
    "Consider the models with degree 3 or 4. \n",
    "Inspect the learned weight parameters, including the number of parameters and their relative magnitudes.\n",
    "\n",
    "What do you notice about these values compared to the values with degree 1 or 2?\n",
    "How might what you notice be connected to the trends in training and validation set performance you observe in Figure 1?"
   ]
  },
  {
   "cell_type": "code",
   "execution_count": 70,
   "metadata": {
    "ExecuteTime": {
     "end_time": "2023-10-04T16:41:31.817015200Z",
     "start_time": "2023-10-04T16:41:31.548319Z"
    }
   },
   "outputs": [
    {
     "name": "stdout",
     "output_type": "stream",
     "text": [
      "  -0.91 : x0\n",
      "  -0.02 : x1\n",
      "-128.89 : x2\n",
      "   1.67 : x3\n",
      "   0.00 : x0^2\n",
      "  -0.00 : x0 x1\n",
      "   0.51 : x0 x2\n",
      "  -0.01 : x0 x3\n",
      "  -0.00 : x1^2\n",
      "   0.03 : x1 x2\n",
      "  -0.00 : x1 x3\n",
      "  25.26 : x2^2\n",
      "  -1.03 : x2 x3\n",
      "   0.01 : x3^2\n",
      "  -0.00 : x0^3\n",
      "  -0.00 : x0^2 x1\n",
      "   0.00 : x0^2 x2\n",
      "   0.00 : x0^2 x3\n",
      "   0.00 : x0 x1^2\n",
      "  -0.00 : x0 x1 x2\n",
      "   0.00 : x0 x1 x3\n",
      "  -0.02 : x0 x2^2\n",
      "   0.00 : x0 x2 x3\n",
      "  -0.00 : x0 x3^2\n",
      "   0.00 : x1^3\n",
      "  -0.00 : x1^2 x2\n",
      "  -0.00 : x1^2 x3\n",
      "  -0.00 : x1 x2^2\n",
      "   0.00 : x1 x2 x3\n",
      "  -0.00 : x1 x3^2\n",
      "  -2.35 : x2^3\n",
      "   0.11 : x2^2 x3\n",
      "  -0.00 : x2 x3^2\n",
      "   0.00 : x3^3\n",
      "where \n",
      "x0 = horsepower\n",
      "x1 = weight\n",
      "x2 = cylinders\n",
      "x3 = displacement\n",
      "   2.78 : x0\n",
      "  -0.46 : x1\n",
      "  -0.01 : x2\n",
      "  -0.96 : x3\n",
      "  -0.03 : x0^2\n",
      "   0.01 : x0 x1\n",
      "  -1.41 : x0 x2\n",
      "  -0.11 : x0 x3\n",
      "   0.00 : x1^2\n",
      "   0.53 : x1 x2\n",
      "  -0.02 : x1 x3\n",
      "  -0.05 : x2^2\n",
      "  -1.83 : x2 x3\n",
      "   0.20 : x3^2\n",
      "  -0.00 : x0^3\n",
      "   0.00 : x0^2 x1\n",
      "   0.00 : x0^2 x2\n",
      "   0.00 : x0^2 x3\n",
      "  -0.00 : x0 x1^2\n",
      "  -0.01 : x0 x1 x2\n",
      "   0.00 : x0 x1 x3\n",
      "   2.12 : x0 x2^2\n",
      "   0.01 : x0 x2 x3\n",
      "  -0.00 : x0 x3^2\n",
      "   0.00 : x1^3\n",
      "  -0.00 : x1^2 x2\n",
      "   0.00 : x1^2 x3\n",
      "  -0.15 : x1 x2^2\n",
      "   0.01 : x1 x2 x3\n",
      "  -0.00 : x1 x3^2\n",
      "  -0.42 : x2^3\n",
      "   0.14 : x2^2 x3\n",
      "  -0.07 : x2 x3^2\n",
      "   0.00 : x3^3\n",
      "   0.00 : x0^4\n",
      "   0.00 : x0^3 x1\n",
      "   0.00 : x0^3 x2\n",
      "  -0.00 : x0^3 x3\n",
      "  -0.00 : x0^2 x1^2\n",
      "  -0.00 : x0^2 x1 x2\n",
      "  -0.00 : x0^2 x1 x3\n",
      "  -0.00 : x0^2 x2^2\n",
      "  -0.00 : x0^2 x2 x3\n",
      "   0.00 : x0^2 x3^2\n",
      "  -0.00 : x0 x1^3\n",
      "   0.00 : x0 x1^2 x2\n",
      "  -0.00 : x0 x1^2 x3\n",
      "   0.00 : x0 x1 x2^2\n",
      "  -0.00 : x0 x1 x2 x3\n",
      "   0.00 : x0 x1 x3^2\n",
      "  -0.17 : x0 x2^3\n",
      "   0.00 : x0 x2^2 x3\n",
      "   0.00 : x0 x2 x3^2\n",
      "  -0.00 : x0 x3^3\n",
      "   0.00 : x1^4\n",
      "   0.00 : x1^3 x2\n",
      "   0.00 : x1^3 x3\n",
      "  -0.00 : x1^2 x2^2\n",
      "  -0.00 : x1^2 x2 x3\n",
      "   0.00 : x1^2 x3^2\n",
      "   0.03 : x1 x2^3\n",
      "  -0.00 : x1 x2^2 x3\n",
      "   0.00 : x1 x2 x3^2\n",
      "  -0.00 : x1 x3^3\n",
      "  -3.72 : x2^4\n",
      "   0.14 : x2^3 x3\n",
      "   0.00 : x2^2 x3^2\n",
      "  -0.00 : x2 x3^3\n",
      "   0.00 : x3^4\n",
      "where \n",
      "x0 = horsepower\n",
      "x1 = weight\n",
      "x2 = cylinders\n",
      "x3 = displacement\n"
     ]
    }
   ],
   "source": [
    "# TODO\n",
    "pretty_print_learned_weights(fv_pipeline_list[2], xcolnames_F)\n",
    "pretty_print_learned_weights(fv_pipeline_list[3], xcolnames_F)"
   ]
  },
  {
   "cell_type": "markdown",
   "metadata": {},
   "source": [
    "# Problem 2: Alpha Selection on Fixed Val Set"
   ]
  },
  {
   "cell_type": "code",
   "execution_count": 71,
   "metadata": {
    "ExecuteTime": {
     "end_time": "2023-10-04T16:41:31.817015200Z",
     "start_time": "2023-10-04T16:41:31.555039700Z"
    }
   },
   "outputs": [
    {
     "name": "stdout",
     "output_type": "stream",
     "text": [
      "[1.e-10 1.e-08 1.e-06 1.e-04 1.e-02 1.e+00 1.e+02 1.e+04 1.e+06]\n"
     ]
    }
   ],
   "source": [
    "my_degree = 4\n",
    "alpha_list = np.asarray([1.e-10, 1.e-08, 1.e-06, 1.e-04, 1.e-02, 1.e+00, 1.e+02, 1.e+04, 1.e+06])\n",
    "print(alpha_list)"
   ]
  },
  {
   "cell_type": "code",
   "execution_count": 72,
   "metadata": {
    "ExecuteTime": {
     "end_time": "2023-10-04T16:41:31.818014800Z",
     "start_time": "2023-10-04T16:41:31.558630600Z"
    }
   },
   "outputs": [],
   "source": [
    "fv2_err_tr_list = []\n",
    "fv2_err_va_list = []\n",
    "fv2_pipeline_list = []\n",
    "\n",
    "for alpha in alpha_list:\n",
    "\n",
    "    # TODO create a pipeline using features with current degree value\n",
    "    # TODO train this pipeline on provided training data\n",
    "    # 创建一个包含多项式特征转换和 Ridge 回归的 pipeline\n",
    "    pipeline = make_poly_ridge_regr_pipeline(degree=my_degree, alpha=alpha)\n",
    "\n",
    "    # 使用训练数据训练 pipeline\n",
    "    pipeline.fit(x_tr_MF, y_tr_M)\n",
    "\n",
    "    yhat_tr_M = sanitize(pipeline.predict(x_tr_MF)) # TODO fixme, be sure to call predict and then sanitize\n",
    "    yhat_va_N = sanitize(pipeline.predict(x_va_NF)) # TODO fixme, be sure to call predict and then sanitize\n",
    "    \n",
    "    assert np.all(yhat_va_N >= 0.0)\n",
    "    assert np.all(yhat_va_N <= Y_MAX)\n",
    "    \n",
    "    err_tr = calc_root_mean_squared_error(y_tr_M, yhat_tr_M) # TODO fixme\n",
    "    err_va = calc_root_mean_squared_error(y_va_N, yhat_va_N) # TODO fixme\n",
    "\n",
    "    fv2_err_tr_list.append(err_tr)\n",
    "    fv2_err_va_list.append(err_va)\n",
    "\n",
    "    # TODO store current pipeline for future use\n",
    "    fv2_pipeline_list.append(pipeline)"
   ]
  },
  {
   "cell_type": "markdown",
   "metadata": {},
   "source": [
    "### Figure 2 in report\n",
    "\n",
    "Make a line plot of mean-squared error on y-axis vs. alpha on x-axis."
   ]
  },
  {
   "cell_type": "code",
   "execution_count": 73,
   "metadata": {
    "ExecuteTime": {
     "end_time": "2023-10-04T16:41:32.158252500Z",
     "start_time": "2023-10-04T16:41:31.588432700Z"
    }
   },
   "outputs": [
    {
     "data": {
      "text/plain": "<Figure size 640x480 with 1 Axes>",
      "image/png": "[encoded data removed]"
     },
     "metadata": {},
     "output_type": "display_data"
    }
   ],
   "source": [
    "plot_train_and_valid_error_vs_hyper(\n",
    "    alpha_list, fv2_err_tr_list, fv2_err_va_list,\n",
    "    xlabel='alpha (L2 penalty)', leg_loc='upper left');\n",
    "plt.gca().set_ylim([0, 10]);\n",
    "plt.gca().set_xscale('log');\n",
    "plt.title('Error vs. Alpha');"
   ]
  },
  {
   "cell_type": "markdown",
   "metadata": {},
   "source": [
    "### Implementation Step 2B\n",
    "\n",
    "Select the model hyperparameters that *minimize* your fixed validation set error. Using your already-trained model with these best hyperparameters, compute error on the *test* set. \n"
   ]
  },
  {
   "cell_type": "code",
   "execution_count": 74,
   "metadata": {
    "ExecuteTime": {
     "end_time": "2023-10-04T16:41:32.159251800Z",
     "start_time": "2023-10-04T16:41:31.867831300Z"
    }
   },
   "outputs": [
    {
     "name": "stdout",
     "output_type": "stream",
     "text": [
      "Selected Parameters:\n",
      "0.01\n",
      "Fixed validation set estimate of heldout error:\n",
      "3.931\n",
      "Error on the test-set:\n",
      "3.878\n"
     ]
    }
   ],
   "source": [
    "fv2_min_err_va = min(fv2_err_va_list)\n",
    "fv2_min_index = fv2_err_va_list.index(fv2_min_err_va)\n",
    "fv2_train_model = fv2_pipeline_list[fv2_min_index]\n",
    "\n",
    "yhat_test_N = fv2_train_model.predict(x_test_NF)\n",
    "fv2_err_test = calc_root_mean_squared_error(y_test_N, yhat_test_N)\n",
    "\n",
    "\n",
    "print(\"Selected Parameters:\")\n",
    "print(alpha_list[fv2_min_index])\n",
    "print(\"Fixed validation set estimate of heldout error:\")\n",
    "print(f\"{fv2_min_err_va:.3f}\")\n",
    "print(\"Error on the test-set:\")\n",
    "print(f\"{fv2_err_test:.3f}\")"
   ]
  },
  {
   "cell_type": "code",
   "execution_count": 75,
   "metadata": {
    "ExecuteTime": {
     "end_time": "2023-10-04T16:41:32.159251800Z",
     "start_time": "2023-10-04T16:41:31.872465Z"
    }
   },
   "outputs": [],
   "source": [
    "# TODO Save this test set error value for later."
   ]
  },
  {
   "cell_type": "markdown",
   "metadata": {},
   "source": [
    "### Short Answer 2a in Report\n",
    "\n",
    "Inspect the learned weight parameters of your chosen degree-4 model.\n",
    "What do you notice about the relative magnitudes compared to 1c above?"
   ]
  },
  {
   "cell_type": "code",
   "execution_count": 76,
   "metadata": {
    "ExecuteTime": {
     "end_time": "2023-10-04T16:41:32.160248900Z",
     "start_time": "2023-10-04T16:41:31.878676700Z"
    }
   },
   "outputs": [
    {
     "name": "stdout",
     "output_type": "stream",
     "text": [
      " -39.88 : x0\n",
      "   1.56 : x1\n",
      "  14.71 : x2\n",
      " -13.32 : x3\n",
      "  -6.53 : x0^2\n",
      "  -5.93 : x0 x1\n",
      "  21.96 : x0 x2\n",
      "  24.36 : x0 x3\n",
      " -22.82 : x1^2\n",
      "   2.39 : x1 x2\n",
      "  -2.18 : x1 x3\n",
      " -19.42 : x2^2\n",
      " -26.81 : x2 x3\n",
      "   3.47 : x3^2\n",
      "   9.93 : x0^3\n",
      "   5.41 : x0^2 x1\n",
      "   9.37 : x0^2 x2\n",
      "  14.07 : x0^2 x3\n",
      "   8.22 : x0 x1^2\n",
      "   7.41 : x0 x1 x2\n",
      "  12.85 : x0 x1 x3\n",
      "   0.12 : x0 x2^2\n",
      "  -1.49 : x0 x2 x3\n",
      "   0.97 : x0 x3^2\n",
      "  -5.93 : x1^3\n",
      "  -2.12 : x1^2 x2\n",
      "  -2.79 : x1^2 x3\n",
      "   0.19 : x1 x2^2\n",
      "  -2.80 : x1 x2 x3\n",
      "  -0.49 : x1 x3^2\n",
      "  -4.76 : x2^3\n",
      "  -3.17 : x2^2 x3\n",
      "   3.10 : x2 x3^2\n",
      "   5.33 : x3^3\n",
      "   5.15 : x0^4\n",
      "  -4.71 : x0^3 x1\n",
      "  -1.87 : x0^3 x2\n",
      "   5.64 : x0^3 x3\n",
      "  -2.97 : x0^2 x1^2\n",
      "  -5.04 : x0^2 x1 x2\n",
      "   1.79 : x0^2 x1 x3\n",
      " -10.96 : x0^2 x2^2\n",
      "  -4.93 : x0^2 x2 x3\n",
      "  -3.79 : x0^2 x3^2\n",
      "   4.44 : x0 x1^3\n",
      "   2.40 : x0 x1^2 x2\n",
      "   5.23 : x0 x1^2 x3\n",
      "  -4.37 : x0 x1 x2^2\n",
      "  -0.25 : x0 x1 x2 x3\n",
      "  -1.68 : x0 x1 x3^2\n",
      " -16.61 : x0 x2^3\n",
      " -11.02 : x0 x2^2 x3\n",
      " -10.19 : x0 x2 x3^2\n",
      " -13.04 : x0 x3^3\n",
      "   2.39 : x1^4\n",
      "   3.05 : x1^3 x2\n",
      "   0.24 : x1^3 x3\n",
      "   2.79 : x1^2 x2^2\n",
      "   1.78 : x1^2 x2 x3\n",
      "  -2.91 : x1^2 x3^2\n",
      "   4.22 : x1 x2^3\n",
      "   6.13 : x1 x2^2 x3\n",
      "   2.56 : x1 x2 x3^2\n",
      "  -4.81 : x1 x3^3\n",
      "  12.25 : x2^4\n",
      "  17.03 : x2^3 x3\n",
      "  14.30 : x2^2 x3^2\n",
      "   6.02 : x2 x3^3\n",
      "  -4.64 : x3^4\n",
      "where \n",
      "x0 = horsepower\n",
      "x1 = weight\n",
      "x2 = cylinders\n",
      "x3 = displacement\n",
      "   2.78 : x0\n",
      "  -0.46 : x1\n",
      "  -0.01 : x2\n",
      "  -0.96 : x3\n",
      "  -0.03 : x0^2\n",
      "   0.01 : x0 x1\n",
      "  -1.41 : x0 x2\n",
      "  -0.11 : x0 x3\n",
      "   0.00 : x1^2\n",
      "   0.53 : x1 x2\n",
      "  -0.02 : x1 x3\n",
      "  -0.05 : x2^2\n",
      "  -1.83 : x2 x3\n",
      "   0.20 : x3^2\n",
      "  -0.00 : x0^3\n",
      "   0.00 : x0^2 x1\n",
      "   0.00 : x0^2 x2\n",
      "   0.00 : x0^2 x3\n",
      "  -0.00 : x0 x1^2\n",
      "  -0.01 : x0 x1 x2\n",
      "   0.00 : x0 x1 x3\n",
      "   2.12 : x0 x2^2\n",
      "   0.01 : x0 x2 x3\n",
      "  -0.00 : x0 x3^2\n",
      "   0.00 : x1^3\n",
      "  -0.00 : x1^2 x2\n",
      "   0.00 : x1^2 x3\n",
      "  -0.15 : x1 x2^2\n",
      "   0.01 : x1 x2 x3\n",
      "  -0.00 : x1 x3^2\n",
      "  -0.42 : x2^3\n",
      "   0.14 : x2^2 x3\n",
      "  -0.07 : x2 x3^2\n",
      "   0.00 : x3^3\n",
      "   0.00 : x0^4\n",
      "   0.00 : x0^3 x1\n",
      "   0.00 : x0^3 x2\n",
      "  -0.00 : x0^3 x3\n",
      "  -0.00 : x0^2 x1^2\n",
      "  -0.00 : x0^2 x1 x2\n",
      "  -0.00 : x0^2 x1 x3\n",
      "  -0.00 : x0^2 x2^2\n",
      "  -0.00 : x0^2 x2 x3\n",
      "   0.00 : x0^2 x3^2\n",
      "  -0.00 : x0 x1^3\n",
      "   0.00 : x0 x1^2 x2\n",
      "  -0.00 : x0 x1^2 x3\n",
      "   0.00 : x0 x1 x2^2\n",
      "  -0.00 : x0 x1 x2 x3\n",
      "   0.00 : x0 x1 x3^2\n",
      "  -0.17 : x0 x2^3\n",
      "   0.00 : x0 x2^2 x3\n",
      "   0.00 : x0 x2 x3^2\n",
      "  -0.00 : x0 x3^3\n",
      "   0.00 : x1^4\n",
      "   0.00 : x1^3 x2\n",
      "   0.00 : x1^3 x3\n",
      "  -0.00 : x1^2 x2^2\n",
      "  -0.00 : x1^2 x2 x3\n",
      "   0.00 : x1^2 x3^2\n",
      "   0.03 : x1 x2^3\n",
      "  -0.00 : x1 x2^2 x3\n",
      "   0.00 : x1 x2 x3^2\n",
      "  -0.00 : x1 x3^3\n",
      "  -3.72 : x2^4\n",
      "   0.14 : x2^3 x3\n",
      "   0.00 : x2^2 x3^2\n",
      "  -0.00 : x2 x3^3\n",
      "   0.00 : x3^4\n",
      "where \n",
      "x0 = horsepower\n",
      "x1 = weight\n",
      "x2 = cylinders\n",
      "x3 = displacement\n"
     ]
    }
   ],
   "source": [
    "# TODO \n",
    "pretty_print_learned_weights(fv2_pipeline_list[fv2_min_index], xcolnames_F)\n",
    "pretty_print_learned_weights(fv_pipeline_list[3], xcolnames_F)\n",
    "# weight parameters的绝对值变化了200倍"
   ]
  },
  {
   "cell_type": "code",
   "execution_count": 77,
   "metadata": {
    "ExecuteTime": {
     "end_time": "2023-10-04T16:41:32.167304500Z",
     "start_time": "2023-10-04T16:41:31.886486Z"
    }
   },
   "outputs": [],
   "source": [
    "# I will choose alpha = 1.e-10,  the Error on the new data would be very large"
   ]
  },
  {
   "cell_type": "markdown",
   "metadata": {},
   "source": [
    "# Data preprocessing for Problem 3"
   ]
  },
  {
   "cell_type": "markdown",
   "metadata": {},
   "source": [
    "For this problem, you'll again use the provided training set and validation sets. However, you'll *merge* these into a large \"development\" set that contains 292 examples total."
   ]
  },
  {
   "cell_type": "code",
   "execution_count": 78,
   "outputs": [
    {
     "name": "stdout",
     "output_type": "stream",
     "text": [
      "(292, 4)\n"
     ]
    }
   ],
   "source": [
    "x_trva_LF = np.vstack([x_tr_MF, x_va_NF])\n",
    "y_trva_L = np.hstack([y_tr_M, y_va_N])\n",
    "\n",
    "print(x_trva_LF.shape)"
   ],
   "metadata": {
    "collapsed": false,
    "ExecuteTime": {
     "end_time": "2023-10-04T16:41:32.168304400Z",
     "start_time": "2023-10-04T16:41:31.889482800Z"
    }
   }
  },
  {
   "cell_type": "markdown",
   "metadata": {},
   "source": [
    "# Problem 3: Cross Validation for Polynomial Feature Regression"
   ]
  },
  {
   "cell_type": "markdown",
   "metadata": {},
   "source": [
    "### Implementation step 3A\n",
    "\n",
    "For each possible `alpha` value as well as each possible polynomial degree, train and evaluate a `Ridge` regression model across the entire train+validation set using 10-fold cross validation. Use the CV methods you implemented in `cross_validation.py`. For each possible hyperparameter (alpha value and degree value), your 10-fold CV procedure will give you an estimate of the training error and heldout validation error (averaged across all folds). \n"
   ]
  },
  {
   "cell_type": "code",
   "execution_count": 79,
   "metadata": {
    "ExecuteTime": {
     "end_time": "2023-10-04T16:41:34.896118400Z",
     "start_time": "2023-10-04T16:41:31.898587800Z"
    }
   },
   "outputs": [],
   "source": [
    "K = 10 # num folds of CV\n",
    "degree_list = [1, 2, 3, 4, 5, 6, 7]\n",
    "alpha_list = np.logspace(-10, 6, 17)\n",
    "\n",
    "ridge_param_list = []\n",
    "for alpha in alpha_list:\n",
    "    for degree in degree_list:\n",
    "        ridge_param_list.append(dict(degree=degree, alpha=alpha))\n",
    "        \n",
    "cv_train_err_list = []\n",
    "cv_valid_err_list = []\n",
    "for param in ridge_param_list:\n",
    "    # TODO make pipeline\n",
    "    degree = param['degree']\n",
    "    alpha = param['alpha']\n",
    "    # 创建一个包含指定度数和alpha的Pipeline\n",
    "    pipeline = make_poly_ridge_regr_pipeline(degree=degree, alpha=alpha)\n",
    "    \n",
    "    # TODO call your function to train a separate model for each fold and return train and valid errors\n",
    "    # Don't forget to pass random_state = SEED (where SEED is defined above) so its reproducible\n",
    "    # tr_error_K, valid_error_K = train_models_and_calc_scores_for_n_fold_cv() # TODO\n",
    "    # 为每个折叠训练单独的模型，并返回训练误差和验证误差\n",
    "    tr_error_K, valid_error_K = train_models_and_calc_scores_for_n_fold_cv(\n",
    "        pipeline, x_tr_MF, y_tr_M, n_folds=K, random_state=SEED)\n",
    "\n",
    "    err_tr = np.mean(tr_error_K) # TODO fixme, compute average error across all train folds\n",
    "    err_va = np.mean(valid_error_K) # TODO fixme, compute average error across all heldout folds\n",
    "    \n",
    "    cv_train_err_list.append(err_tr)\n",
    "    cv_valid_err_list.append(err_va)"
   ]
  },
  {
   "cell_type": "markdown",
   "metadata": {},
   "source": [
    "### Implementation step 3B\n",
    "\n",
    "Select the model hyperparameters that *minimize* your estimated cross-validation error. Using these best hyperparameters, retrain the model using the full development set (concatenating the predefined training and validation sets). Then compute that (retrained) model's error on the test set.\n",
    "\n",
    "Save this test set error value for later."
   ]
  },
  {
   "cell_type": "code",
   "execution_count": 80,
   "metadata": {
    "ExecuteTime": {
     "end_time": "2023-10-04T16:41:34.910137500Z",
     "start_time": "2023-10-04T16:41:34.899227600Z"
    }
   },
   "outputs": [],
   "source": [
    "# TODO\n",
    "cv_min_index = np.argmin(cv_valid_err_list)\n",
    "min_params = ridge_param_list[cv_min_index]\n",
    "\n",
    "cv_min_error = cv_valid_err_list[cv_min_index]\n",
    "\n",
    "# 模型参数确定 \n",
    "cv_degree = min_params['degree']\n",
    "cv_alpha =  min_params['alpha']\n",
    "cv_pipeline = make_poly_ridge_regr_pipeline(degree=cv_degree, alpha=cv_alpha)\n",
    "\n",
    "# 将训练和验证集合并为开发集\n",
    "x_dev = np.concatenate((x_train_MF, x_valid_NF), axis=0)\n",
    "y_dev = np.concatenate((y_train_M, y_valid_N), axis=0)\n",
    "# 模型训练\n",
    "cv_pipeline.fit(x_dev, y_dev)\n",
    "\n",
    "yhat_dev = sanitize(cv_pipeline.predict(x_dev)) # TODO fixme, be sure to call predict and then sanitize\n",
    "yhat_test = sanitize(cv_pipeline.predict(x_test_NF)) # TODO fixme, be sure to call predict and then sanitize\n",
    "\n",
    "assert np.all(yhat_test >= 0.0)\n",
    "assert np.all(yhat_test <= Y_MAX)\n",
    "\n",
    "cv_err_dev = calc_root_mean_squared_error(y_dev, yhat_dev) # TODO fixme\n",
    "cv_err_test = calc_root_mean_squared_error(y_test_N, yhat_test) # TODO fixme"
   ]
  },
  {
   "cell_type": "code",
   "execution_count": 81,
   "metadata": {
    "ExecuteTime": {
     "end_time": "2023-10-04T16:41:34.911134800Z",
     "start_time": "2023-10-04T16:41:34.904507100Z"
    }
   },
   "outputs": [
    {
     "name": "stdout",
     "output_type": "stream",
     "text": [
      "Selected Parameters:\n",
      "degree=3, alpha=0.1\n",
      "10-fold CV estimate of heldout error:\n",
      "3.809\n",
      "Error on the test-set:\n",
      "3.837\n"
     ]
    }
   ],
   "source": [
    "print(\"Selected Parameters:\")\n",
    "print(f\"degree={cv_degree}, alpha={cv_alpha}\")\n",
    "print(\"10-fold CV estimate of heldout error:\")\n",
    "print(f\"{cv_err_dev:.3f}\")\n",
    "print(\"Error on the test-set:\")\n",
    "print(f\"{cv_err_test:.3f}\")"
   ]
  },
  {
   "cell_type": "markdown",
   "metadata": {},
   "source": [
    "## Table 3 : Comparing pipelines on test set"
   ]
  },
  {
   "cell_type": "code",
   "execution_count": 82,
   "metadata": {
    "ExecuteTime": {
     "end_time": "2023-10-04T16:41:35.043512Z",
     "start_time": "2023-10-04T16:41:34.907144500Z"
    }
   },
   "outputs": [
    {
     "data": {
      "text/plain": "<Figure size 800x400 with 1 Axes>",
      "image/png": "[encoded data removed]"
     },
     "metadata": {},
     "output_type": "display_data"
    }
   ],
   "source": [
    "# TODO make a table in your report using the saved values from 1B, 2B and 3B above\n",
    "# 基线\n",
    "mean_y_train = np.mean(y_train_M)\n",
    "y_pred_baseline = np.full_like(y_test_N, mean_y_train)\n",
    "baseline_err_test = calc_root_mean_squared_error(y_test_N, y_pred_baseline)\n",
    "\n",
    "# 测试集RMSE性能数据\n",
    "data = [\n",
    "    [\"Regressor\", \"RMSE\"],\n",
    "    [\"Baseline\", baseline_err_test],  # 用实际数值替换这些示例值\n",
    "    [\"Poly+Linear\", err_test],\n",
    "    [\"Poly+Ridge (Fixed Degree)\", fv2_err_test],\n",
    "    [\"Poly+Ridge (Optimized)\", cv_err_test]\n",
    "]\n",
    "\n",
    "for row in data:\n",
    "    if isinstance(row[1], float):\n",
    "        row[1] = f\"{row[1]:.3f}\"  # 保留小数前三位\n",
    "\n",
    "# 创建表格\n",
    "fig, ax = plt.subplots(figsize=(8, 4))\n",
    "ax.axis('off')  # 隐藏坐标轴\n",
    "\n",
    "# 绘制表格\n",
    "table = ax.table(cellText=data, loc='center', cellLoc='center', colLabels=None, cellColours = [['#f2f2f2']*2] + [['#ffffff']*2]*4)\n",
    "table.auto_set_font_size(False)\n",
    "table.set_fontsize(12)\n",
    "\n",
    "# 调整单元格高度\n",
    "table.scale(1, 1.5)\n",
    "\n",
    "plt.title(\"Test Set RMSE Performance Comparison\")\n",
    "plt.show()\n"
   ]
  }
 ],
 "metadata": {
  "kernelspec": {
   "display_name": "python3",
   "language": "python",
   "name": "python3"
  }
 },
 "nbformat": 4,
 "nbformat_minor": 4
}
